{
 "cells": [
  {
   "cell_type": "code",
   "execution_count": null,
   "metadata": {},
   "outputs": [],
   "source": [
    "from sklearn import svm\n",
    "from sklearn.feature_extraction.text import TfidfVectorizer\n",
    "import pandas as pd\n",
    "from nltk.corpus import stopwords\n",
    "from nltk.stem.wordnet import WordNetLemmatizer\n",
    "\n",
    "stopWord = stopwords.words('english')\n",
    "lemmatizer = WordNetLemmatizer()\n",
    "\n",
    "# train Data\n",
    "df_trainData = pd.read_csv(\"D:\\\\NTU MSIS\\\\H6751-TEXT & WEB MINING\\\\Kaggle Competition\\\\Data\\\\train.csv\")\n",
    "# test Data\n",
    "df_testData = pd.read_csv(\"D:\\\\NTU MSIS\\\\H6751-TEXT & WEB MINING\\\\Kaggle Competition\\\\Data\\\\test.csv\")\n",
    "\n",
    "# Train Remove stop word\n",
    "df_trainData['Comment'] = df_trainData['Comment'].apply(lambda x: ' '.join([word for word in x.split() if word not in (stopWord)]))\n",
    "# Train Remove sepecial characer\n",
    "df_trainData['Comment'] = df_trainData['Comment'].replace({'[^A-Za-z]+':' '}, regex=True)\n",
    "# Train stemmer\n",
    "df_trainData['Comment'] = df_trainData['Comment'].apply(lambda x: ' '.join([lemmatizer.lemmatize(word) for word in x.split()]))  \n",
    "\n",
    "\n",
    "# Train Remove stop word\n",
    "df_testData['Comment'] = df_trainData['Comment'].apply(lambda x: ' '.join([word for word in x.split() if word not in (stopWord)]))\n",
    "# Train Remove sepecial characer\n",
    "df_testData['Comment'] = df_trainData['Comment'].replace({'[^A-Za-z]+':' '}, regex=True)\n",
    "# Train stemmer\n",
    "df_testData['Comment'] = df_trainData['Comment'].apply(lambda x: ' '.join([lemmatizer.lemmatize(word) for word in x.split()])) \n",
    " \n",
    "# Create feature vectors\n",
    "vectorizer = TfidfVectorizer(min_df = 5,  max_df = 0.8, sublinear_tf = True, use_idf = True, analyzer='word', token_pattern=r'\\w{1,}', ngram_range=(2,3), max_features=5000)\n",
    "\n",
    "\n",
    "train_vectors = vectorizer.fit_transform(df_trainData['Comment'])\n",
    "test_vectors = vectorizer.transform(df_testData['Comment'])\n",
    " \n",
    "# Perform classification with SVM, kernel=linear\n",
    "classifier_linear = svm.SVC(kernel='rbf')\n",
    "classifier_linear.fit(train_vectors, df_trainData['Outcome'])\n",
    "prediction_linear = classifier_linear.predict(test_vectors)\n",
    "print(prediction_linear)\n",
    " \n",
    "# Prepare for file submission\n",
    "df_testData['Outcome'] = prediction_linear\n",
    "df_submission = df_testData[['Id','Outcome']]\n",
    "df_submission.to_csv(\"submission.csv\", index=False)\n",
    "\n",
    "\n",
    "print('------ DONE ------')"
   ]
  }
 ],
 "metadata": {
  "kernelspec": {
   "display_name": "Python 3",
   "language": "python",
   "name": "python3"
  },
  "language_info": {
   "codemirror_mode": {
    "name": "ipython",
    "version": 3
   },
   "file_extension": ".py",
   "mimetype": "text/x-python",
   "name": "python",
   "nbconvert_exporter": "python",
   "pygments_lexer": "ipython3",
   "version": "3.6.4"
  }
 },
 "nbformat": 4,
 "nbformat_minor": 2
}
